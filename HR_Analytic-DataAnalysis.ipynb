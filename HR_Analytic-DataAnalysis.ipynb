{
 "cells": [
  {
   "cell_type": "code",
   "execution_count": 1,
   "metadata": {},
   "outputs": [
    {
     "data": {
      "text/html": [
       "<script>\n",
       "code_show=true; \n",
       "function code_toggle() {\n",
       " if (code_show){\n",
       " $('div.input').hide();\n",
       " } else {\n",
       " $('div.input').show();\n",
       " }\n",
       " code_show = !code_show\n",
       "} \n",
       "$( document ).ready(code_toggle);\n",
       "</script>\n",
       "Toggle on/off the raw code, click <a href=\"javascript:code_toggle()\">here</a>.\n",
       "</script>"
      ],
      "text/plain": [
       "<IPython.core.display.HTML object>"
      ]
     },
     "execution_count": 1,
     "metadata": {},
     "output_type": "execute_result"
    }
   ],
   "source": [
    "from IPython.display import HTML, display\n",
    "\n",
    "HTML('''<script>\n",
    "code_show=true; \n",
    "function code_toggle() {\n",
    " if (code_show){\n",
    " $('div.input').hide();\n",
    " } else {\n",
    " $('div.input').show();\n",
    " }\n",
    " code_show = !code_show\n",
    "} \n",
    "$( document ).ready(code_toggle);\n",
    "</script>\n",
    "Toggle on/off the raw code, click <a href=\"javascript:code_toggle()\">here</a>.\n",
    "</script>''')"
   ]
  },
  {
   "cell_type": "code",
   "execution_count": 2,
   "metadata": {},
   "outputs": [],
   "source": [
    "#######################################################\n",
    "#         WELCOME TO HR ANALYTIC - DATA FILE          #\n",
    "#######################################################\n",
    "#  TO HAVE A BETTER EXPERIENCE CLICK THE BUTTON THAT  #\n",
    "# SAYS 'NO TRUSTED' TO CHANGE THE STATUS TO 'TRUSTED' #\n",
    "#                                                     # \n",
    "#    SELECT OPTION KERNEL --> RESTART & RUN ALL       #\n",
    "#######################################################\n",
    "#   CLICK THE \"VOILA\" BUTTON ABOVE TO RUN AS AN APP   #\n",
    "#######################################################\n",
    "#                                                     #\n",
    "#            THANK YOU - ALEJANDRA COLACILLI          #\n",
    "#                                                     #\n",
    "#######################################################"
   ]
  },
  {
   "cell_type": "code",
   "execution_count": 3,
   "metadata": {},
   "outputs": [],
   "source": [
    "# Import Dependencies\n",
    "%matplotlib inline\n",
    "\n",
    "# Start Python Imports\n",
    "import math, time, random, datetime\n",
    "\n",
    "# Data Manipulation\n",
    "import numpy as np\n",
    "import pandas as pd\n",
    "\n",
    "# Visualization \n",
    "import matplotlib.pyplot as plt\n",
    "import seaborn as sns\n",
    "plt.style.use('seaborn-whitegrid')"
   ]
  },
  {
   "cell_type": "code",
   "execution_count": 4,
   "metadata": {},
   "outputs": [],
   "source": [
    "# Import train data and data to predict\n",
    "\n",
    "try:\n",
    "    train = pd.read_csv('https://raw.githubusercontent.com/Alecolacilli/Projects/master/general_data_total.csv')\n",
    "except:\n",
    "    print('File can not be opened. Please insert the training dataset file')\n",
    "    \n",
    "try:\n",
    "    data = pd.read_csv('HR_Analytic_predict.csv')\n",
    "except:\n",
    "    data = pd.DataFrame()   "
   ]
  },
  {
   "cell_type": "code",
   "execution_count": 5,
   "metadata": {},
   "outputs": [],
   "source": [
    "# Function to check and drop missing values\n",
    "def find_missing_values(dataset, columns):\n",
    "    if len(dataset) == 0:\n",
    "        return dataset\n",
    "    \n",
    "    missing_values = {}\n",
    "    ds_length = len(dataset)\n",
    "    for column in columns:\n",
    "        total_column_values = dataset[column].value_counts().sum()\n",
    "        missing_values[column] = ds_length - total_column_values\n",
    "        \n",
    "    return missing_values\n",
    "\n",
    "def drop_missing_values(dataset):\n",
    "    if len(dataset) == 0:\n",
    "        return dataset\n",
    "        \n",
    "    missing_vals = find_missing_values(dataset, columns=dataset.columns)\n",
    "    to_drop = []\n",
    "    for i in missing_vals:\n",
    "        if missing_vals[i] > 0:\n",
    "            to_drop.append(i)\n",
    "    \n",
    "    dataset = dataset.dropna(subset=to_drop)\n",
    "    return dataset\n",
    "\n",
    "train = drop_missing_values(train)\n",
    "data = drop_missing_values(data)"
   ]
  },
  {
   "cell_type": "code",
   "execution_count": 6,
   "metadata": {},
   "outputs": [],
   "source": [
    "# Create two new dataframes to analyze the data and compare\n",
    "train_dis = pd.DataFrame() # for discretized continuous variables\n",
    "train_con = pd.DataFrame() # for continuous variables\n",
    "\n",
    "data_dis = pd.DataFrame() # for discretized continuous variables\n",
    "data_con = pd.DataFrame() # for continuous variables"
   ]
  },
  {
   "cell_type": "code",
   "execution_count": 7,
   "metadata": {},
   "outputs": [],
   "source": [
    "# Create a function to discretize the data for Marital Status with numerical values\n",
    "def maritalStatus(row):\n",
    "    if row.MaritalStatus == 'Married':\n",
    "        return 1\n",
    "    elif row.MaritalStatus == 'Single':\n",
    "        return 2\n",
    "    elif row.MaritalStatus == 'Divorced':\n",
    "        return 3\n",
    "    \n",
    "# Create a function to discretize the data for Distance from Home grouping them by categories\n",
    "def distance(row):\n",
    "    if row.DistanceFromHome >= 0 and row.DistanceFromHome < 5:\n",
    "        return 0\n",
    "    elif row.DistanceFromHome >= 5 and row.DistanceFromHome < 10:\n",
    "        return 1\n",
    "    elif row.DistanceFromHome >= 10 and row.DistanceFromHome < 15:\n",
    "        return 2\n",
    "    elif row.DistanceFromHome >= 15 and row.DistanceFromHome < 20:\n",
    "        return 3\n",
    "    elif row.DistanceFromHome >= 20 and row.DistanceFromHome < 25:\n",
    "        return 4\n",
    "    elif row.DistanceFromHome >= 25 and row.DistanceFromHome < 30:\n",
    "        return 5\n",
    "    else:\n",
    "        return 6\n",
    "    \n",
    "# Create a function to discretize the data for Total Working Years grouping them by categories\n",
    "def work_years(row):\n",
    "    if row.TotalWorkingYears >= 0 and row.TotalWorkingYears < 10:\n",
    "        return 0\n",
    "    elif row.TotalWorkingYears >= 10 and row.TotalWorkingYears < 20:\n",
    "        return 1\n",
    "    elif row.TotalWorkingYears >= 20 and row.TotalWorkingYears < 30:\n",
    "        return 2\n",
    "    elif row.TotalWorkingYears >= 30 and row.TotalWorkingYears <= 40:\n",
    "        return 3\n",
    "    else:\n",
    "        return 4\n",
    "    \n",
    "# Create a function to discretize the data for Age grouping them by categories\n",
    "def age_gen(row):\n",
    "    if row.Age >= 0 and row.Age <= 21:       #Post-Millennials\n",
    "        return 0\n",
    "    elif row.Age >= 22 and row.Age <= 37:    #Millennials\n",
    "        return 1\n",
    "    elif row.Age >= 38 and row.Age <= 53:    #Generation X    \n",
    "        return 2\n",
    "    elif row.Age >= 54 and row.Age <= 72:    #Baby Boomers\n",
    "        return 3\n",
    "    else:                                    #The Silent Generation\n",
    "        return 4                                                        \n",
    "    \n",
    "# Create a function to discretize the data for Number of Companies Worked grouping them by categories\n",
    "def comp_worked(row):\n",
    "    if row.NumCompaniesWorked >= 0 and row.NumCompaniesWorked < 2:      #Worked in less than 2 companies\n",
    "        return 0\n",
    "    elif row.NumCompaniesWorked >= 2 and row.NumCompaniesWorked < 4:    #Worked in 2 or 3 companies\n",
    "        return 1\n",
    "    elif row.NumCompaniesWorked >= 4 and row.NumCompaniesWorked < 6:    #Worked in 4 or 5 companies\n",
    "        return 2\n",
    "    elif row.NumCompaniesWorked >= 6 and row.NumCompaniesWorked < 8:    #Worked in 6 or 7 companies\n",
    "        return 3\n",
    "    else:                                                               #Worked in more than 8 companies\n",
    "        return 4                                                        \n",
    "\n",
    "# Create a function to discretize the data for Business Travel with numerical values\n",
    "def bussTravel(row):\n",
    "    if row.BusinessTravel == 'Non-Travel':\n",
    "        return 0\n",
    "    elif row.BusinessTravel == 'Travel_Rarely':\n",
    "        return 1\n",
    "    elif row.BusinessTravel == 'Travel_Frequently':\n",
    "        return 2\n",
    "    \n"
   ]
  },
  {
   "cell_type": "code",
   "execution_count": 8,
   "metadata": {},
   "outputs": [],
   "source": [
    "# Unify discretized columns with one hot columns\n",
    "def unify_columns(dataset):\n",
    "    if len(dataset) == 0:\n",
    "        return dataset\n",
    "    \n",
    "    # Convert to one hot\n",
    "    df_job_one_hot = pd.get_dummies(dataset['JobRole'])\n",
    "    df_dept_one_hot = pd.get_dummies(dataset['Department'], prefix='Dept')\n",
    "    df_ed_one_hot = pd.get_dummies(dataset['EducationField'], prefix='Ed')\n",
    "\n",
    "    # Discretized columns using above functions\n",
    "    df_marStat = pd.DataFrame({'MaritalStatus': dataset.apply(maritalStatus, axis='columns')})\n",
    "    df_distance = pd.DataFrame({'DistanceFromHome': dataset.apply(distance, axis='columns')})\n",
    "    df_work_years = pd.DataFrame({'TotalWorkingYears': dataset.apply(work_years, axis='columns')})\n",
    "    df_Age = pd.DataFrame({'Age': dataset.apply(age_gen, axis='columns')})\n",
    "    df_comp_worked = pd.DataFrame({'NumCompaniesWorked': dataset.apply(comp_worked, axis='columns')})\n",
    "    df_bussTravel = pd.DataFrame({'BusinessTravel': dataset.apply(bussTravel, axis='columns')})\n",
    "\n",
    "    # Unify everythin in one dataset\n",
    "    df_unify = pd.DataFrame()\n",
    "    df_unify['JR_HealthRep'] = df_job_one_hot['Healthcare Representative']\n",
    "    df_unify['JR_HHRR'] = df_job_one_hot['Human Resources']\n",
    "    df_unify['JR_LabTec'] = df_job_one_hot['Laboratory Technician']\n",
    "    df_unify['JR_Man'] = df_job_one_hot['Manager']\n",
    "    df_unify['JR_MftDir'] = df_job_one_hot['Manufacturing Director']\n",
    "    df_unify['JR_ResDir'] = df_job_one_hot['Research Director']\n",
    "    df_unify['JR_ResSci'] = df_job_one_hot['Research Scientist']\n",
    "    df_unify['JR_SaleExc'] = df_job_one_hot['Sales Executive']\n",
    "    df_unify['JR_SaleRep'] = df_job_one_hot['Sales Representative']\n",
    "    df_unify['MaritalStatus'] = df_marStat['MaritalStatus']\n",
    "    df_unify['DistanceFromHome'] = df_distance['DistanceFromHome']\n",
    "    df_unify['TotalWorkingYears'] = df_work_years['TotalWorkingYears']\n",
    "    df_unify['Age'] = df_Age['Age']\n",
    "    df_unify['NumCompaniesWorked'] = df_comp_worked['NumCompaniesWorked']\n",
    "    df_unify['Dept_HHRR'] = df_dept_one_hot['Dept_Human Resources']\n",
    "    df_unify['Dept_R&Dev'] = df_dept_one_hot['Dept_Research & Development']\n",
    "    df_unify['Dept_Sales'] = df_dept_one_hot['Dept_Sales']\n",
    "    df_unify['Ed_HHRR'] = df_ed_one_hot['Ed_Human Resources']\n",
    "    df_unify['Ed_LifeSci'] = df_ed_one_hot['Ed_Life Sciences']\n",
    "    df_unify['Ed_Mktg'] = df_ed_one_hot['Ed_Marketing']\n",
    "    df_unify['Ed_Med'] = df_ed_one_hot['Ed_Medical']\n",
    "    df_unify['Ed_Tech'] = df_ed_one_hot['Ed_Technical Degree']\n",
    "    df_unify['Ed_Other'] = df_ed_one_hot['Ed_Other']\n",
    "    df_unify['BusinessTravel'] = df_bussTravel['BusinessTravel']\n",
    "    \n",
    "    return df_unify\n",
    "\n",
    "train_unify = unify_columns(train)\n",
    "data_unify = unify_columns(data)\n"
   ]
  },
  {
   "cell_type": "code",
   "execution_count": 9,
   "metadata": {},
   "outputs": [],
   "source": [
    "def fill_dataset(dataset, unified):\n",
    "    if len(dataset) == 0:\n",
    "        return dataset\n",
    "    \n",
    "    df_filled = pd.DataFrame()\n",
    "      \n",
    "    # Convert Gender \"Female\" and \"Male\" values to numerical values\n",
    "    df_filled['Gender'] = dataset['Gender']\n",
    "    df_filled['Gender'] = np.where(df_filled['Gender'] == 'Female', 1, 0) # change attrition value Male = 0 and Female = 1\n",
    "    \n",
    "    #Add the rest of the columns to the train and data datasets\n",
    "    initial_columns = ['EmployeeID', 'MonthlyIncome', 'Man_PerformanceRating', 'PercentSalaryHike', 'JobLevel', 'Education', 'Man_JobInvolvement', 'StockOptionLevel', 'YearsAtCompany', 'Emp_EnvironmentSatisfaction', 'Emp_JobSatisfaction', 'Emp_WorkLifeBalance', 'TrainingTimesLastYear', 'YearsSinceLastPromotion', 'YearsWithCurrManager']\n",
    "    dataset_columns = ['EmployeeID', 'MonthlyIncome', 'PerformanceRating', 'PercentSalaryHike', 'JobLevel', 'Education', 'JobInvolvement', 'StockOptionLevel', 'YearsAtCompany', 'EnvironmentSatisfaction', 'JobSatisfaction', 'WorkLifeBalance', 'TrainingTimesLastYear', 'YearsSinceLastPromotion', 'YearsWithCurrManager']\n",
    "\n",
    "    #init_onehot_col = ['JobRole', 'Gender', 'MaritalStatus', 'DistanceFromHome', 'TotalWorkingYears', 'Age', 'NumCompaniesWorked', 'Department', ' EducationField', 'BusinessTravel']\n",
    "    onehot_columns = ['Healthcare Representative', 'Human Resources', 'Laboratory Technician', 'Manager', 'Manufacturing Director', 'Research Director', 'Research Scientist', 'Sales Executive', 'Sales Representative', 'MaritalStatus', 'DistanceFromHome', 'TotalWorkingYears', 'Age', 'NumCompaniesWorked', 'Dept_Human Resources', 'Dept_Research & Development', 'Dept_Sales', 'Ed_Human Resources', 'Ed_Life Sciences', 'Ed_Marketing', 'Ed_Medical', 'Ed_Technical Degree', 'Ed_Other', 'BusinessTravel']\n",
    "    data_onehot_col = ['JR_HealthRep', 'JR_HHRR', 'JR_LabTec', 'JR_Man', 'JR_MftDir', 'JR_ResDir', 'JR_ResSci', 'JR_SaleExc', 'JR_SaleRep', 'MaritalStatus', 'DistanceFromHome', 'TotalWorkingYears', 'Age', 'NumCompaniesWorked', 'Dept_HHRR', 'Dept_R&Dev', 'Dept_Sales', 'Ed_HHRR', 'Ed_LifeSci', 'Ed_Mktg', 'Ed_Med', 'Ed_Tech', 'Ed_Other', 'BusinessTravel']\n",
    "\n",
    "    \n",
    "    df_filled[dataset_columns] = dataset[initial_columns]\n",
    "    df_filled[data_onehot_col] = unified[data_onehot_col]\n",
    "    \n",
    "    return df_filled\n",
    "\n",
    "train_dis = fill_dataset(train, train_unify)\n",
    "data_dis = fill_dataset(data, data_unify)\n",
    "\n",
    "# Convert attrition \"Yes\" and \"No\" values to numerical values and add to the train dataset\n",
    "train_dis['Attrition'] = train['Attrition']\n",
    "train_dis['Attrition'] = np.where(train_dis['Attrition'] == 'Yes', 1, 0) # change attrition value No = 0 and Yes = 1"
   ]
  },
  {
   "cell_type": "code",
   "execution_count": 10,
   "metadata": {},
   "outputs": [],
   "source": [
    "# Save the clean dataset in a csv file\n",
    "train_dis.to_csv('HR_Analytic_to_train.csv', index=False)\n",
    "data_dis.to_csv('HR_Analytic_to_predict.csv', index=False)"
   ]
  },
  {
   "cell_type": "code",
   "execution_count": 11,
   "metadata": {},
   "outputs": [],
   "source": [
    "# Create a new DataFrame to show the information with Qgrid, renaming the Columns\n",
    "qgrid_plot = pd.DataFrame()\n",
    "qgrid_plot['ID']=train_dis['EmployeeID']\n",
    "qgrid_plot['Active']=train['Attrition']\n",
    "qgrid_plot['Gender']=train['Gender']\n",
    "qgrid_plot['Age']=train_dis['Age']\n",
    "qgrid_plot['Marital ST']=train['MaritalStatus']\n",
    "qgrid_plot['Income']=train_dis['MonthlyIncome']\n",
    "qgrid_plot['Salary Hike']=train_dis['PercentSalaryHike']\n",
    "qgrid_plot['Years in Co.']=train_dis['YearsAtCompany']\n",
    "qgrid_plot['Job Role']=train['JobRole']\n",
    "qgrid_plot['Job Level']=train_dis['JobLevel']\n",
    "qgrid_plot['Department']=train['Department']\n",
    "qgrid_plot['Performance']=train_dis['PerformanceRating']\n",
    "qgrid_plot['Env. Satisf']=train_dis['EnvironmentSatisfaction']\n",
    "qgrid_plot['Job Satisf']=train_dis['JobSatisfaction']\n",
    "qgrid_plot['Job Involv']=train_dis['JobInvolvement']\n",
    "qgrid_plot['Yr. since promo']=train_dis['YearsSinceLastPromotion']\n",
    "qgrid_plot['No. training']=train_dis['TrainingTimesLastYear']\n",
    "qgrid_plot['WorkLifeBalance']=train_dis['WorkLifeBalance']\n",
    "qgrid_plot['YearsWithCurrManager']=train_dis['YearsWithCurrManager']\n",
    "qgrid_plot['StockOptionLevel']=train_dis['StockOptionLevel']\n",
    "qgrid_plot['TotalWorkingYears']=train_dis['TotalWorkingYears']\n",
    "qgrid_plot['NumCompaniesWorked']=train_dis['NumCompaniesWorked']\n",
    "qgrid_plot['Education']=train_dis['Education']\n",
    "qgrid_plot['EducationField']=train['EducationField']\n",
    "qgrid_plot['DistanceFromHome']=train_dis['DistanceFromHome']\n",
    "\n",
    "qgrid_plot.to_csv('HR_Analytic_qgrid.csv', index=False)\n",
    "train.to_csv('HR_Analytic_train.csv', index=False)"
   ]
  },
  {
   "cell_type": "markdown",
   "metadata": {},
   "source": [
    "<h1 style=\"text-align: center;\"><span style=\"color: #ff9900;\">Data Analytic</span></h1>\n",
    "\n",
    "The data analysis was done with more than 4,000 records as the initial load. These records were submitted by the last satisfaction survey performed by the company. \n",
    "75 % of these data were used for the training model and 25 % for the accuracy test."
   ]
  },
  {
   "cell_type": "markdown",
   "metadata": {},
   "source": [
    "<h2 style=\"text-align: left;\"><span style=\"color: #ff9900;\">Training Data Visualization</span></h2>"
   ]
  },
  {
   "cell_type": "code",
   "execution_count": 12,
   "metadata": {},
   "outputs": [
    {
     "data": {
      "application/vnd.jupyter.widget-view+json": {
       "model_id": "f4d3db94aedd4960a0d7a9127ea5ee36",
       "version_major": 2,
       "version_minor": 0
      },
      "text/plain": [
       "QgridWidget(grid_options={'fullWidthRows': True, 'syncColumnCellResize': True, 'forceFitColumns': False, 'defa…"
      ]
     },
     "metadata": {},
     "output_type": "display_data"
    }
   ],
   "source": [
    "from IPython.display import HTML, display\n",
    "import qgrid\n",
    "\n",
    "col_defs = {\n",
    "    'ID': {\n",
    "        'width': 35\n",
    "    },\n",
    "    'Marital ST': {\n",
    "        'width': 80\n",
    "    },\n",
    "    'Salary Hike': {\n",
    "        'width': 85\n",
    "    },\n",
    "    'Salary Hike': {\n",
    "        'width': 85\n",
    "    },\n",
    "    'Years in Co.': {\n",
    "        'width': 85\n",
    "    },\n",
    "    'Job Role': {\n",
    "        'width': 70\n",
    "    },\n",
    "    'Job Level': {\n",
    "        'width': 70\n",
    "    }\n",
    "    \n",
    "}\n",
    "\n",
    "df_widget = qgrid.show_grid(qgrid_plot, show_toolbar=True, column_definitions=col_defs, grid_options={\n",
    "    # SlickGrid options\n",
    "    'fullWidthRows': True,\n",
    "    'syncColumnCellResize': True,\n",
    "    'forceFitColumns': False,\n",
    "    'defaultColumnWidth': 65,\n",
    "    'rowHeight': 25,\n",
    "    'enableColumnReorder': True,\n",
    "    'enableTextSelectionOnCells': True,\n",
    "    'editable': False,\n",
    "    'autoEdit': False,\n",
    "    'explicitInitialization': True,\n",
    "    'filter_dropdown_shown': True,\n",
    "\n",
    "    # Qgrid options\n",
    "    'maxVisibleRows': 15,\n",
    "    'minVisibleRows': 8,\n",
    "    'sortable': True,\n",
    "    'filterable': True,\n",
    "    'highlightSelectedCell': False,\n",
    "    'highlightSelectedRow': True},\n",
    "    \n",
    "    column_options={\n",
    "    # SlickGrid column options\n",
    "    'defaultSortAsc': True,\n",
    "    'maxWidth': 200,\n",
    "    'minWidth': 10,\n",
    "    'resizable': True,\n",
    "    'sortable': True,\n",
    "    'toolTip': \"\",\n",
    "    'width': None\n",
    "})\n",
    "df_widget"
   ]
  },
  {
   "cell_type": "markdown",
   "metadata": {},
   "source": [
    "<h2 style=\"text-align: left;\"><span style=\"color: #ff9900;\">Total Working Years & Age</span></h2>\n",
    "There is a tendency to leave the company when the employees are younger, or when the number of years worked for the company is low."
   ]
  },
  {
   "cell_type": "code",
   "execution_count": 13,
   "metadata": {},
   "outputs": [
    {
     "data": {
      "image/png": "[encoded data removed]",
      "text/plain": [
       "<Figure size 501.375x216 with 2 Axes>"
      ]
     },
     "metadata": {
      "needs_background": "light"
     },
     "output_type": "display_data"
    }
   ],
   "source": [
    "g = sns.FacetGrid(train, col=\"Attrition\", hue=\"Gender\")\n",
    "g.map(plt.scatter, \"Age\", \"TotalWorkingYears\", alpha=.7);\n",
    "g.add_legend();"
   ]
  },
  {
   "cell_type": "markdown",
   "metadata": {},
   "source": [
    "<h2 style=\"text-align: left;\"><span style=\"color: #ff9900;\">Monthly Income & Age</span></h2>\n",
    "The salary appears to be a key factor when it comes to deciding whether to stay or leave the company.  One of the biggest reasons why younger employees leave the company is low salaries."
   ]
  },
  {
   "cell_type": "code",
   "execution_count": 14,
   "metadata": {},
   "outputs": [
    {
     "data": {
      "image/png": "[encoded data removed]",
      "text/plain": [
       "<Figure size 432x432 with 3 Axes>"
      ]
     },
     "metadata": {
      "needs_background": "light"
     },
     "output_type": "display_data"
    }
   ],
   "source": [
    "sns.jointplot(x=\"Age\", y=\"MonthlyIncome\", kind=\"kde\", data=train);"
   ]
  },
  {
   "cell_type": "markdown",
   "metadata": {},
   "source": [
    "<h2 style=\"text-align: left;\"><span style=\"color: #ff9900;\">Monthly Income & Years at Company</span></h2>\n",
    "The number of years worked for the company is also a key factor when deciding to stay or leave the company. As we can see, those who have spent more years working for the company are more loyal even when their salaries are low."
   ]
  },
  {
   "cell_type": "code",
   "execution_count": 15,
   "metadata": {},
   "outputs": [
    {
     "data": {
      "image/png": "[encoded data removed]",
      "text/plain": [
       "<Figure size 432x432 with 4 Axes>"
      ]
     },
     "metadata": {
      "needs_background": "light"
     },
     "output_type": "display_data"
    }
   ],
   "source": [
    "g = sns.FacetGrid(train, row=\"Gender\", col=\"Attrition\", margin_titles=True)\n",
    "g.map(sns.regplot, \"YearsAtCompany\", \"MonthlyIncome\", color=\".3\", fit_reg=False, x_jitter=.1);"
   ]
  },
  {
   "cell_type": "markdown",
   "metadata": {},
   "source": [
    "<a href=\"#\" button type=\"button\" class=\"btn btn-primary btn-lg btn-block\">Continue with the HR_Analytics-Prediction.ipynb Notebook ---></a>"
   ]
  },
  {
   "cell_type": "markdown",
   "metadata": {},
   "source": [
    "<a href=\"#\" button type=\"button\" class=\"btn btn-primary btn-lg btn-block\"> <--- Go back to HR_Analytics-InitialApp.ipynb Notebook</a>"
   ]
  }
 ],
 "metadata": {
  "kernelspec": {
   "display_name": "Python 3",
   "language": "python",
   "name": "python3"
  },
  "language_info": {
   "codemirror_mode": {
    "name": "ipython",
    "version": 3
   },
   "file_extension": ".py",
   "mimetype": "text/x-python",
   "name": "python",
   "nbconvert_exporter": "python",
   "pygments_lexer": "ipython3",
   "version": "3.7.4"
  }
 },
 "nbformat": 4,
 "nbformat_minor": 2
}
