{
 "cells": [
  {
   "cell_type": "code",
   "execution_count": 1,
   "metadata": {},
   "outputs": [
    {
     "data": {
      "text/html": [
       "<script>\n",
       "code_show=true; \n",
       "function code_toggle() {\n",
       " if (code_show){\n",
       " $('div.input').hide();\n",
       " } else {\n",
       " $('div.input').show();\n",
       " }\n",
       " code_show = !code_show\n",
       "} \n",
       "$( document ).ready(code_toggle);\n",
       "</script>\n",
       "Toggle on/off the raw code, click <a href=\"javascript:code_toggle()\">here</a>.\n",
       "</script>"
      ],
      "text/plain": [
       "<IPython.core.display.HTML object>"
      ]
     },
     "execution_count": 1,
     "metadata": {},
     "output_type": "execute_result"
    }
   ],
   "source": [
    "from IPython.display import HTML, display\n",
    "\n",
    "HTML('''<script>\n",
    "code_show=true; \n",
    "function code_toggle() {\n",
    " if (code_show){\n",
    " $('div.input').hide();\n",
    " } else {\n",
    " $('div.input').show();\n",
    " }\n",
    " code_show = !code_show\n",
    "} \n",
    "$( document ).ready(code_toggle);\n",
    "</script>\n",
    "Toggle on/off the raw code, click <a href=\"javascript:code_toggle()\">here</a>.\n",
    "</script>''')"
   ]
  },
  {
   "cell_type": "code",
   "execution_count": 2,
   "metadata": {},
   "outputs": [],
   "source": [
    "# Start Python Imports\n",
    "import math, time, random, datetime\n",
    "\n",
    "# Data Manipulation\n",
    "import numpy as np\n",
    "import pandas as pd"
   ]
  },
  {
   "cell_type": "markdown",
   "metadata": {},
   "source": [
    "<!doctype html>\n",
    "<html lang=\"en\">\n",
    "<h1 style=\"text-align: center;\">Welcome to HR Analytics</h1>\n",
    "<p>On this page you will find a description of all the data provided by the company, categorized by column:</p>\n",
    "<h3><span style=\"text-decoration: underline; color: #ff9900;\"><strong>Attributes:</strong></span></h3>\n",
    "<ul>\n",
    "<li><strong>Age:&nbsp;</strong>Age of the employee</li>\n",
    "<li><strong>Attrition:&nbsp;</strong>Whether the employee left in the previous year or not</li>\n",
    "<li><strong>BusinessTravel:&nbsp;</strong>How frequently the employees traveled for business purposes in the last year</li>\n",
    "<li><strong>Department:</strong> Department of the company</li>\n",
    "<li><strong>DistanceFromHome:&nbsp;</strong>Distance from home in km</li>\n",
    "<li><strong>Education:</strong> Education Levels\n",
    "<ul>\n",
    "<li>1 = 'Below College'</li>\n",
    "<li>2 = 'College'</li>\n",
    "<li>3 = 'Bachelor'</li>\n",
    "<li>4 = 'Master'</li>\n",
    "<li>5 = 'Doctor'</li>\n",
    "</ul>\n",
    "</li>\n",
    "<li><strong>EducationField:</strong> Field of education</li>\n",
    "<li><strong>EmployeeCount:</strong> Employee count</li>\n",
    "<li><strong>EmployeeID:</strong> Employee number/id</li>\n",
    "<li><strong>Gender:</strong> Gender of employee</li>\n",
    "<li><strong>JobLevel:</strong> Job level at the company on a scale of 1 to 5</li>\n",
    "<li><strong>JobRole:</strong> Name of the job role in the company</li>\n",
    "<li><strong>MaritalStatus:</strong> Marital status of the employee</li>\n",
    "<li><strong>MonthlyIncome:</strong> Monthly income per month</li>\n",
    "<li><strong>NumCompaniesWorked:</strong> Total number of companies the employee has worked for</li>\n",
    "<li><strong>Over18:</strong> Whether the employee is above 18 years of age or not</li>\n",
    "<li><strong>PercentSalaryHike:</strong> Percent salary hike for last year</li>\n",
    "<li><strong>StandardHours:</strong> Standard hours of work for the employee</li>\n",
    "<li><strong>StockOptionLevel:</strong> Stock options level of the employee</li>\n",
    "<li><strong>TotalWorkingYears:</strong> Total number of years the employee has worked so far</li>\n",
    "<li><strong>TrainingTimesLastYear:</strong> Number of times training was conducted for this employee last year</li>\n",
    "<li><strong>YearsAtCompany:</strong> Total number of years spent at the company by the employee</li>\n",
    "<li><strong>YearsSinceLastPromotion:</strong> Number of years since the last promotion</li>\n",
    "<li><strong>YearsWithCurrManager:</strong> Number of years under current manager</li>\n",
    "<li><strong>Emp_EnvironmentSatisfaction:</strong> Work Environment Satisfaction Level\n",
    "<ul>\n",
    "<li>1 = 'Low'</li>\n",
    "<li>2 = 'Medium'</li>\n",
    "<li>3 = 'High'</li>\n",
    "<li>4 = 'Very High'</li>\n",
    "</ul>\n",
    "</li>\n",
    "<li><strong>Emp_JobSatisfaction:</strong> Job Satisfaction Level\n",
    "<ul>\n",
    "<li>1 = 'Low'</li>\n",
    "<li>2 = 'Medium'</li>\n",
    "<li>3 = 'High'</li>\n",
    "<li>4 = 'Very High'</li>\n",
    "</ul>\n",
    "</li>\n",
    "<li><strong>Emp_WorkLifeBalance:</strong> Work-life balance level\n",
    "<ul>\n",
    "<li>1 = 'Bad'</li>\n",
    "<li>2 = 'Good'</li>\n",
    "<li>3 = 'Better'</li>\n",
    "<li>4 = 'Best'</li>\n",
    "</ul>\n",
    "</li>\n",
    "<li><strong>Man_JobInvolvement:</strong> Job Involvement Level from a Manager perspective\n",
    "<ul>\n",
    "<li>1 = 'Low'</li>\n",
    "<li>2 = 'Medium'</li>\n",
    "<li>3 = 'High'</li>\n",
    "<li>4 = 'Very High'</li>\n",
    "</ul>\n",
    "</li>\n",
    "<li><strong>Man_PerformanceRating:&nbsp;</strong>Performance rating for last year\n",
    "<ul>\n",
    "<li>1 = 'Low'</li>\n",
    "<li>2 = 'Good'</li>\n",
    "<li>3 = 'Excellent'</li>\n",
    "<li>4 = 'Outstanding'</li>\n",
    "</ul>\n",
    "</li>\n",
    "</ul>\n",
    "</html>"
   ]
  },
  {
   "cell_type": "markdown",
   "metadata": {},
   "source": [
    "\n",
    "<h1 style=\"text-align: center;\"><span style=\"color: #ff9900;\">Let's Test the Data</span></h1>\n",
    "<p>You can place here a file with the data you want to predict.</h3>\n",
    "<p>Otherwise, the program will use the initial data to show the data analysis done.</p>\n"
   ]
  },
  {
   "cell_type": "code",
   "execution_count": null,
   "metadata": {},
   "outputs": [
    {
     "data": {
      "text/html": [
       "<p>Please enter your file in CSV format. When finish hit enter</p>"
      ],
      "text/plain": [
       "<IPython.core.display.HTML object>"
      ]
     },
     "metadata": {},
     "output_type": "display_data"
    }
   ],
   "source": [
    "try:\n",
    "    display(HTML('''<p>Please enter your file in CSV format. When finish hit enter</p>'''))\n",
    "    data = pd.read_csv(input('File Path: '))\n",
    "    if len(data) > 0:\n",
    "        display(HTML('''<p>Your file was imported successfully. We will do our predictions using it.</p>'''))\n",
    "        data.to_csv('HR_Analytic_predict.csv', index=False)\n",
    "        data\n",
    "    else:\n",
    "        display(HTML('''<p>There was an issue trying to loading the file or the file is empty.</p>'''))\n",
    "except:\n",
    "    display(HTML('''<p>There was an issue trying to loading the file or the file is empty.</p>'''))\n",
    "    \n"
   ]
  },
  {
   "cell_type": "markdown",
   "metadata": {},
   "source": [
    "<a href=\"#\" button type=\"button\" class=\"btn btn-primary btn-lg btn-block\">Continue with the HR_Analytics-DataAnalysis.ipynb Notebook</a>"
   ]
  }
 ],
 "metadata": {
  "kernelspec": {
   "display_name": "Python 3",
   "language": "python",
   "name": "python3"
  },
  "language_info": {
   "codemirror_mode": {
    "name": "ipython",
    "version": 3
   },
   "file_extension": ".py",
   "mimetype": "text/x-python",
   "name": "python",
   "nbconvert_exporter": "python",
   "pygments_lexer": "ipython3",
   "version": "3.7.4"
  }
 },
 "nbformat": 4,
 "nbformat_minor": 2
}
